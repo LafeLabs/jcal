{
 "cells": [
  {
   "cell_type": "code",
   "execution_count": 15,
   "id": "8c444790",
   "metadata": {},
   "outputs": [],
   "source": [
    "import numpy as np\n",
    "import matplotlib.pyplot as plt\n",
    "import skrf as rf\n",
    "from skrf.media import *\n",
    "import json"
   ]
  },
  {
   "cell_type": "code",
   "execution_count": 16,
   "id": "08943f6d",
   "metadata": {},
   "outputs": [
    {
     "data": {
      "text/plain": [
       "(4.0, 9.0)"
      ]
     },
     "execution_count": 16,
     "metadata": {},
     "output_type": "execute_result"
    },
    {
     "data": {
      "image/png": "[encoded data removed]",
      "text/plain": [
       "<Figure size 432x288 with 1 Axes>"
      ]
     },
     "metadata": {
      "needs_background": "light"
     },
     "output_type": "display_data"
    }
   ],
   "source": [
    "fghz  = np.linspace(4,9,1601)\n",
    "f = fghz*1e9\n",
    "sopen = fghz*0j + 1\n",
    "open_network = rf.Network(frequency=f, s=sopen, z0=50)\n",
    "C_shunt = 10e-12 # farads\n",
    "L_shunt = 40e-12 # henries\n",
    "omega = 2*np.pi*f\n",
    "Y_c_shunt = 1j*omega*C_shunt\n",
    "Y_l_shunt = 1/(1j*omega*L_shunt)\n",
    "c_in = 1.5e-12\n",
    "Z_c_in = 1/(1j*2*np.pi*f)\n",
    "c_shunt_network = rf.Circuit.ShuntAdmittance(f, Y_c_shunt, name='shunt_admittance')\n",
    "l_shunt_network = rf.Circuit.ShuntAdmittance(f, Y_l_shunt, name='shunt_admittance2')\n",
    "cin_series_network = rf.Circuit.SeriesImpedance(f,Z_c_in,name='cin')\n",
    "jpa = cin_series_network**l_shunt_network**c_shunt_network**open_network\n",
    "plt.plot(fghz,jpa.s_deg_unwrap[:,0,0])\n",
    "plt.grid()\n",
    "plt.xlim(4,9)"
   ]
  },
  {
   "cell_type": "code",
   "execution_count": 44,
   "id": "f2e928a4",
   "metadata": {},
   "outputs": [],
   "source": [
    "generic_media = media.DefinedGammaZ0(z0_port=None, z0=50, gamma=1j)"
   ]
  },
  {
   "cell_type": "code",
   "execution_count": 49,
   "id": "036b2926",
   "metadata": {},
   "outputs": [],
   "source": [
    "line_length = generic_media.line(100, unit = 'mm', z0 = 50, name = '70 mm, 50 Ohm')"
   ]
  },
  {
   "cell_type": "code",
   "execution_count": 46,
   "id": "66b3432d",
   "metadata": {},
   "outputs": [
    {
     "data": {
      "text/plain": [
       "2-Port Network: '70 mm, 50 Ohm',  1.0-10.0 GHz, 101 pts, z0=[50.+0.j 50.+0.j]"
      ]
     },
     "execution_count": 46,
     "metadata": {},
     "output_type": "execute_result"
    }
   ],
   "source": [
    "line_length"
   ]
  },
  {
   "cell_type": "code",
   "execution_count": 40,
   "id": "1fe9b124",
   "metadata": {},
   "outputs": [],
   "source": [
    "foo =line_length**jpa"
   ]
  },
  {
   "cell_type": "code",
   "execution_count": 42,
   "id": "6ce0aa63",
   "metadata": {},
   "outputs": [
    {
     "data": {
      "text/plain": [
       "8"
      ]
     },
     "execution_count": 42,
     "metadata": {},
     "output_type": "execute_result"
    }
   ],
   "source": [
    "len(foo.s_deg_unwrap)"
   ]
  },
  {
   "cell_type": "code",
   "execution_count": null,
   "id": "8512877e",
   "metadata": {},
   "outputs": [],
   "source": []
  }
 ],
 "metadata": {
  "kernelspec": {
   "display_name": "Python 3",
   "language": "python",
   "name": "python3"
  },
  "language_info": {
   "codemirror_mode": {
    "name": "ipython",
    "version": 3
   },
   "file_extension": ".py",
   "mimetype": "text/x-python",
   "name": "python",
   "nbconvert_exporter": "python",
   "pygments_lexer": "ipython3",
   "version": "3.8.8"
  }
 },
 "nbformat": 4,
 "nbformat_minor": 5
}
