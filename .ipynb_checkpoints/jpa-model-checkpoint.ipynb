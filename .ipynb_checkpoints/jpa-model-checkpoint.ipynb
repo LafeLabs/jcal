{
 "cells": [
  {
   "cell_type": "code",
   "execution_count": 1,
   "id": "8c444790",
   "metadata": {},
   "outputs": [],
   "source": [
    "import numpy as np\n",
    "import matplotlib.pyplot as plt\n",
    "import skrf as rf\n",
    "from skrf.media import *\n",
    "from skrf import Frequency\n",
    "import json"
   ]
  },
  {
   "cell_type": "markdown",
   "id": "475dfa84",
   "metadata": {},
   "source": [
    "[jpa-model.html](jpa-model.html)"
   ]
  },
  {
   "cell_type": "code",
   "execution_count": 19,
   "id": "d2743b0c",
   "metadata": {},
   "outputs": [],
   "source": [
    "fghz  = np.linspace(4,9,1601)\n",
    "f = fghz*1e9\n",
    "sopen = fghz*0j + 1\n",
    "open_network = rf.Network(frequency=f, s=sopen, z0=50)\n",
    "omega = 2*np.pi*f\n",
    "f_coax = Frequency(fghz[0], fghz[len(fghz)-1], len(fghz), 'GHz')"
   ]
  },
  {
   "cell_type": "code",
   "execution_count": 18,
   "id": "a68a9dac",
   "metadata": {},
   "outputs": [],
   "source": [
    "while True:\n",
    "    file_object = open(\"control.json\", \"r\")\n",
    "    try:\n",
    "        control = json.loads(file_object.read())\n",
    "    except ValueError:\n",
    "        pass\n",
    "    file_object.close()\n",
    "    C_shunt = control['C0']\n",
    "    L_shunt = control['LJmin']/np.abs(np.cos(2*np.pi*control['phi']))\n",
    "    Y_c_shunt = 1j*omega*control['C0']\n",
    "    Y_l_shunt = 1/(1j*omega*L_shunt)\n",
    "    c_in = control['Cin']\n",
    "    Z_c_in = 1/(1j*2*np.pi*f*c_in)\n",
    "    c_shunt_network = rf.Circuit.ShuntAdmittance(f, Y_c_shunt, name='shunt_admittance')\n",
    "    l_shunt_network = rf.Circuit.ShuntAdmittance(f, Y_l_shunt, name='shunt_admittance2')\n",
    "    cin_series_network = rf.Circuit.SeriesImpedance(f,Z_c_in,name='cin')\n",
    "    jpa = cin_series_network**l_shunt_network**c_shunt_network**open_network\n",
    "    coax = coaxial.Coaxial(f_coax,Dint=0.0005,Dout=0.001675,epsilon_r=2.1,sigma=1.2e7,z0_port=50)\n",
    "    coax_length = coax.line(control['coax_length'], unit = 'm')\n",
    "    coax_jpa = coax_length**cin_series_network**l_shunt_network**c_shunt_network**open_network\n",
    "    phase =  coax_jpa.s_deg_unwrap[:,0,0]\n",
    "    model = {}\n",
    "    model['fghz'] = fghz.tolist()\n",
    "    model['phase'] = coax_jpa.s_deg_unwrap[:,0,0].tolist()\n",
    "    file_object = open(\"model.json\", \"w\")\n",
    "    json_string = file_object.write(json.dumps(model))\n",
    "    file_object.close()\n"
   ]
  },
  {
   "cell_type": "code",
   "execution_count": 14,
   "id": "ac7a55eb",
   "metadata": {},
   "outputs": [
    {
     "data": {
      "image/png": "[encoded data removed]",
      "text/plain": [
       "<Figure size 432x288 with 1 Axes>"
      ]
     },
     "metadata": {
      "needs_background": "light"
     },
     "output_type": "display_data"
    }
   ],
   "source": [
    "phi = np.linspace(-0.5,0.5,1000)\n",
    "L = control['LJmin']/np.abs(np.cos(2*np.pi*phi))\n",
    "plt.plot(phi,L/1e-12)\n",
    "plt.ylim(0,100)\n",
    "plt.xlim(-0.25,0.25)\n",
    "plt.grid()\n"
   ]
  },
  {
   "cell_type": "code",
   "execution_count": null,
   "id": "f9b76141",
   "metadata": {},
   "outputs": [],
   "source": []
  }
 ],
 "metadata": {
  "kernelspec": {
   "display_name": "Python 3",
   "language": "python",
   "name": "python3"
  },
  "language_info": {
   "codemirror_mode": {
    "name": "ipython",
    "version": 3
   },
   "file_extension": ".py",
   "mimetype": "text/x-python",
   "name": "python",
   "nbconvert_exporter": "python",
   "pygments_lexer": "ipython3",
   "version": "3.8.8"
  }
 },
 "nbformat": 4,
 "nbformat_minor": 5
}
