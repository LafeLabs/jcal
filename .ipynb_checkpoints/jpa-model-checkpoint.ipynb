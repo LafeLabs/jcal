{
 "cells": [
  {
   "cell_type": "code",
   "execution_count": 1,
   "id": "8c444790",
   "metadata": {},
   "outputs": [],
   "source": [
    "import numpy as np\n",
    "import matplotlib.pyplot as plt\n",
    "import skrf as rf\n",
    "from skrf.media import *\n",
    "from skrf import Frequency\n",
    "import json"
   ]
  },
  {
   "cell_type": "code",
   "execution_count": 10,
   "id": "08943f6d",
   "metadata": {},
   "outputs": [
    {
     "data": {
      "text/plain": [
       "(4.0, 9.0)"
      ]
     },
     "execution_count": 10,
     "metadata": {},
     "output_type": "execute_result"
    },
    {
     "data": {
      "image/png": "[encoded data removed]",
      "text/plain": [
       "<Figure size 432x288 with 1 Axes>"
      ]
     },
     "metadata": {
      "needs_background": "light"
     },
     "output_type": "display_data"
    }
   ],
   "source": [
    "fghz  = np.linspace(4,9,1601)\n",
    "f = fghz*1e9\n",
    "sopen = fghz*0j + 1\n",
    "open_network = rf.Network(frequency=f, s=sopen, z0=50)\n",
    "C_shunt = 10e-12 # farads\n",
    "L_shunt = 60e-12 # henries\n",
    "omega = 2*np.pi*f\n",
    "Y_c_shunt = 1j*omega*C_shunt\n",
    "Y_l_shunt = 1/(1j*omega*L_shunt)\n",
    "c_in = 1.5e-12\n",
    "Z_c_in = 1/(1j*2*np.pi*f)\n",
    "c_shunt_network = rf.Circuit.ShuntAdmittance(f, Y_c_shunt, name='shunt_admittance')\n",
    "l_shunt_network = rf.Circuit.ShuntAdmittance(f, Y_l_shunt, name='shunt_admittance2')\n",
    "cin_series_network = rf.Circuit.SeriesImpedance(f,Z_c_in,name='cin')\n",
    "jpa = cin_series_network**l_shunt_network**c_shunt_network**open_network\n",
    "plt.plot(fghz,jpa.s_deg_unwrap[:,0,0])\n",
    "plt.grid()\n",
    "plt.xlim(4,9)"
   ]
  },
  {
   "cell_type": "code",
   "execution_count": 11,
   "id": "f2e928a4",
   "metadata": {},
   "outputs": [],
   "source": [
    "f_coax = Frequency(fghz[0], fghz[len(fghz)-1], len(fghz), 'GHz')\n",
    "coax = coaxial.Coaxial(f_coax,Dint=0.0005,Dout=0.001675,epsilon_r=2.1,sigma=1.2e7,z0_port=50)\n"
   ]
  },
  {
   "cell_type": "code",
   "execution_count": 12,
   "id": "036b2926",
   "metadata": {},
   "outputs": [],
   "source": []
  },
  {
   "cell_type": "code",
   "execution_count": 13,
   "id": "66b3432d",
   "metadata": {},
   "outputs": [],
   "source": []
  },
  {
   "cell_type": "code",
   "execution_count": 18,
   "id": "1fe9b124",
   "metadata": {},
   "outputs": [
    {
     "data": {
      "text/plain": [
       "(4.0, 9.0)"
      ]
     },
     "execution_count": 18,
     "metadata": {},
     "output_type": "execute_result"
    },
    {
     "data": {
      "image/png": "[encoded data removed]",
      "text/plain": [
       "<Figure size 432x288 with 1 Axes>"
      ]
     },
     "metadata": {
      "needs_background": "light"
     },
     "output_type": "display_data"
    }
   ],
   "source": [
    "coax_length = coax.line(5, unit = 'cm')\n",
    "coax_jpa = coax_length**cin_series_network**l_shunt_network**c_shunt_network**open_network\n",
    "plt.plot(fghz,coax_jpa.s_deg_unwrap[:,0,0] + 360)\n",
    "plt.grid()\n",
    "plt.xlim(4,9)"
   ]
  },
  {
   "cell_type": "code",
   "execution_count": 19,
   "id": "6ce0aa63",
   "metadata": {},
   "outputs": [],
   "source": [
    "file_object = open(\"control.json\", \"r\")\n",
    "control = json.loads(file_object.read())\n",
    "file_object.close()"
   ]
  },
  {
   "cell_type": "code",
   "execution_count": 20,
   "id": "8512877e",
   "metadata": {},
   "outputs": [
    {
     "data": {
      "text/plain": [
       "{'coax_length': 0.08,\n",
       " 'LJmin': 1e-11,\n",
       " 'L0': 1e-11,\n",
       " 'C0': 9.2e-12,\n",
       " 'Cin': 1.5e-12,\n",
       " 'phi': 0.25}"
      ]
     },
     "execution_count": 20,
     "metadata": {},
     "output_type": "execute_result"
    }
   ],
   "source": [
    "control"
   ]
  },
  {
   "cell_type": "code",
   "execution_count": 22,
   "id": "43fda7f8",
   "metadata": {},
   "outputs": [
    {
     "data": {
      "text/plain": [
       "1e-11"
      ]
     },
     "execution_count": 22,
     "metadata": {},
     "output_type": "execute_result"
    }
   ],
   "source": []
  },
  {
   "cell_type": "code",
   "execution_count": null,
   "id": "45eb0185",
   "metadata": {},
   "outputs": [],
   "source": [
    "fghz  = np.linspace(4,9,1601)\n",
    "f = fghz*1e9\n",
    "sopen = fghz*0j + 1\n",
    "open_network = rf.Network(frequency=f, s=sopen, z0=50)\n",
    "C_shunt = 10e-12 # farads\n",
    "L_shunt = 60e-12 # henries\n",
    "omega = 2*np.pi*f\n",
    "Y_c_shunt = 1j*omega*C_shunt\n",
    "Y_l_shunt = 1/(1j*omega*L_shunt)\n",
    "c_in = 1.5e-12\n",
    "Z_c_in = 1/(1j*2*np.pi*f)\n",
    "c_shunt_network = rf.Circuit.ShuntAdmittance(f, Y_c_shunt, name='shunt_admittance')\n",
    "l_shunt_network = rf.Circuit.ShuntAdmittance(f, Y_l_shunt, name='shunt_admittance2')\n",
    "cin_series_network = rf.Circuit.SeriesImpedance(f,Z_c_in,name='cin')\n",
    "jpa = cin_series_network**l_shunt_network**c_shunt_network**open_network\n"
   ]
  }
 ],
 "metadata": {
  "kernelspec": {
   "display_name": "Python 3",
   "language": "python",
   "name": "python3"
  },
  "language_info": {
   "codemirror_mode": {
    "name": "ipython",
    "version": 3
   },
   "file_extension": ".py",
   "mimetype": "text/x-python",
   "name": "python",
   "nbconvert_exporter": "python",
   "pygments_lexer": "ipython3",
   "version": "3.8.8"
  }
 },
 "nbformat": 4,
 "nbformat_minor": 5
}
