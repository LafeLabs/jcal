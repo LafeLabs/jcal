{
 "cells": [
  {
   "cell_type": "code",
   "execution_count": 21,
   "id": "c42fd5ba",
   "metadata": {},
   "outputs": [],
   "source": [
    "import numpy as np\n",
    "import matplotlib.pyplot as plt\n",
    "import skrf as rf\n",
    "from skrf.media import *\n",
    "from skrf import Frequency\n",
    "import json"
   ]
  },
  {
   "cell_type": "markdown",
   "id": "2fec782b",
   "metadata": {},
   "source": [
    "[link to page about SMA geometry](https://www.thorlabs.com/newgrouppage9.cfm?objectgroup_id=2888)\n",
    "\n",
    "[link to coax media object doc page](https://scikit-rf.readthedocs.io/en/latest/api/media/generated/skrf.media.coaxial.Coaxial.html#skrf.media.coaxial.Coaxial)\n",
    "\n",
    " - outer diameter = 2.6 mm\n",
    " - inner diameter = 0.5 mm\n",
    " - teflon dielectric constant = 2.1"
   ]
  },
  {
   "cell_type": "code",
   "execution_count": 37,
   "id": "fc60b48a",
   "metadata": {},
   "outputs": [],
   "source": [
    "f_coax = Frequency(4, 9, 1601, 'GHz')\n",
    "fghz = f_coax.f/1e9\n",
    "coax = coaxial.Coaxial(f_coax,Dint=0.0005,Dout=0.001675,epsilon_r=2.1,sigma=1.2e7,z0_port=50)\n"
   ]
  },
  {
   "cell_type": "code",
   "execution_count": 24,
   "id": "6c7bff81",
   "metadata": {},
   "outputs": [],
   "source": [
    "coax_10mm = coax.line(100, unit = 'mm')"
   ]
  },
  {
   "cell_type": "code",
   "execution_count": 25,
   "id": "0d6e508b",
   "metadata": {},
   "outputs": [
    {
     "data": {
      "text/plain": [
       "2-Port Network: '',  4.0-9.0 GHz, 1601 pts, z0=[50.+0.j 50.+0.j]"
      ]
     },
     "execution_count": 25,
     "metadata": {},
     "output_type": "execute_result"
    }
   ],
   "source": [
    "coax_10mm"
   ]
  },
  {
   "cell_type": "code",
   "execution_count": 26,
   "id": "713be8c7",
   "metadata": {},
   "outputs": [],
   "source": [
    "sopen = f_coax.f*0j + 1"
   ]
  },
  {
   "cell_type": "code",
   "execution_count": 28,
   "id": "a0167427",
   "metadata": {},
   "outputs": [],
   "source": [
    "open_network = rf.Network(frequency=f_coax, s=sopen, z0=50)"
   ]
  },
  {
   "cell_type": "code",
   "execution_count": 31,
   "id": "caaa97dd",
   "metadata": {},
   "outputs": [],
   "source": [
    "coax_open = coax_10mm**open_network"
   ]
  },
  {
   "cell_type": "code",
   "execution_count": 44,
   "id": "2754d9f0",
   "metadata": {},
   "outputs": [
    {
     "data": {
      "text/plain": [
       "Text(0, 0.5, '$S_{11}$ phase [deg]')"
      ]
     },
     "execution_count": 44,
     "metadata": {},
     "output_type": "execute_result"
    },
    {
     "data": {
      "image/png": "[encoded data removed]",
      "text/plain": [
       "<Figure size 432x288 with 1 Axes>"
      ]
     },
     "metadata": {
      "needs_background": "light"
     },
     "output_type": "display_data"
    }
   ],
   "source": [
    "plt.plot(fghz,coax_open.s_deg_unwrap[:,:,0])\n",
    "plt.xlim(fghz[0],fghz[len(fghz) - 1])\n",
    "plt.grid()\n",
    "plt.title(\"10 mm Coax Terminated in Open\")\n",
    "plt.xlabel(\"Frequency [GHz]\")\n",
    "plt.ylabel(\"$S_{11}$ phase [deg]\")"
   ]
  },
  {
   "cell_type": "code",
   "execution_count": null,
   "id": "2e97cade",
   "metadata": {},
   "outputs": [],
   "source": []
  }
 ],
 "metadata": {
  "kernelspec": {
   "display_name": "Python 3",
   "language": "python",
   "name": "python3"
  },
  "language_info": {
   "codemirror_mode": {
    "name": "ipython",
    "version": 3
   },
   "file_extension": ".py",
   "mimetype": "text/x-python",
   "name": "python",
   "nbconvert_exporter": "python",
   "pygments_lexer": "ipython3",
   "version": "3.8.8"
  }
 },
 "nbformat": 4,
 "nbformat_minor": 5
}
